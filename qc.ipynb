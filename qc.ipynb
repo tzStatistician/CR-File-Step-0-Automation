{
 "cells": [
  {
   "cell_type": "code",
   "execution_count": 5,
   "metadata": {},
   "outputs": [
    {
     "name": "stdout",
     "output_type": "stream",
     "text": [
      "Comparing 'cudu.csv' ...\n",
      "Comparing 'CUQ_vertical_simple.csv' ...\n",
      "Comparing 'lab.csv' ...\n",
      "Comparing 'manuflg.csv' ...\n",
      "Comparing 'ndf.CSV' ...\n",
      "Comparing 'product.csv' ...\n",
      "All specified files are identical.\n"
     ]
    },
    {
     "data": {
      "text/plain": [
       "True"
      ]
     },
     "execution_count": 5,
     "metadata": {},
     "output_type": "execute_result"
    }
   ],
   "source": [
    "import os\n",
    "import filecmp\n",
    "\n",
    "def compare_files_in_folders(folder1, folder2, file_set):\n",
    "    # Compare the contents of the specified files\n",
    "    for file in file_set:\n",
    "        filepath1 = os.path.join(folder1, file)\n",
    "        filepath2 = os.path.join(folder2, file)\n",
    "        print(f\"Comparing '{file}' ...\")\n",
    "        # Check if both files exist\n",
    "        if not os.path.isfile(filepath1) or not os.path.isfile(filepath2):\n",
    "            print(f\"File {file} does not exist in one of the folders.\")\n",
    "            return False\n",
    "\n",
    "        # Compare files\n",
    "        if not filecmp.cmp(filepath1, filepath2, shallow=False):\n",
    "            print(f\"Files {file} do not match.\")\n",
    "            return False\n",
    "\n",
    "    # If all specified files match\n",
    "    print(\"All specified files are identical.\")\n",
    "    return True\n",
    "\n",
    "# Define directories and file set\n",
    "directory1 = r'\\\\shasts004p\\IA_Hospital\\personal_files\\Tianxiao\\customized_report\\raw_data_backup\\1M24'\n",
    "directory2 = r'\\\\shasts004p\\IA_Hospital\\SVNpro\\Customized Report\\MSD.Regional\\RawData\\202401'\n",
    "file_set = ['cudu.csv', 'CUQ_vertical_simple.csv', 'lab.csv', 'manuflg.csv', 'ndf.CSV', 'product.csv']\n",
    "\n",
    "# Call the function to compare the specified files in the given folders\n",
    "compare_files_in_folders(directory1, directory2, file_set)"
   ]
  }
 ],
 "metadata": {
  "kernelspec": {
   "display_name": "cra",
   "language": "python",
   "name": "python3"
  },
  "language_info": {
   "codemirror_mode": {
    "name": "ipython",
    "version": 3
   },
   "file_extension": ".py",
   "mimetype": "text/x-python",
   "name": "python",
   "nbconvert_exporter": "python",
   "pygments_lexer": "ipython3",
   "version": "3.10.7"
  }
 },
 "nbformat": 4,
 "nbformat_minor": 2
}
